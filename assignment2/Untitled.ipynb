{
 "cells": [
  {
   "cell_type": "code",
   "execution_count": 1,
   "id": "9c6b01e6-fc79-4ffc-a3ef-1a78fe066d3e",
   "metadata": {},
   "outputs": [],
   "source": [
    "import numpy as np"
   ]
  },
  {
   "cell_type": "code",
   "execution_count": 2,
   "id": "a3823ddc-daef-463a-87bb-d2c0d5d1ae8b",
   "metadata": {},
   "outputs": [
    {
     "data": {
      "text/plain": [
       "'w4'"
      ]
     },
     "execution_count": 2,
     "metadata": {},
     "output_type": "execute_result"
    }
   ],
   "source": [
    "i = 4\n",
    "\"w\" + str(i)"
   ]
  },
  {
   "cell_type": "code",
   "execution_count": 3,
   "id": "b0aa2088-e926-4a97-8767-9e61842d5f9d",
   "metadata": {},
   "outputs": [
    {
     "data": {
      "text/plain": [
       "'w4'"
      ]
     },
     "execution_count": 3,
     "metadata": {},
     "output_type": "execute_result"
    }
   ],
   "source": [
    "f\"w{i}\""
   ]
  },
  {
   "cell_type": "code",
   "execution_count": 20,
   "id": "d4460bac-3cb0-47c4-820d-aee2d9f74a76",
   "metadata": {},
   "outputs": [
    {
     "data": {
      "text/plain": [
       "[4, 2, 3, 4]"
      ]
     },
     "execution_count": 20,
     "metadata": {},
     "output_type": "execute_result"
    }
   ],
   "source": [
    "a = [2,3,4]\n",
    "[4]+a"
   ]
  },
  {
   "cell_type": "code",
   "execution_count": 5,
   "id": "3b849e01-ad06-43c1-a9f8-2a40d451930d",
   "metadata": {},
   "outputs": [
    {
     "data": {
      "text/plain": [
       "[4, [2, 3, 4]]"
      ]
     },
     "execution_count": 5,
     "metadata": {},
     "output_type": "execute_result"
    }
   ],
   "source": [
    "[4, a]"
   ]
  },
  {
   "cell_type": "code",
   "execution_count": 6,
   "id": "4acb0572-0843-4053-b22f-de9bced73b06",
   "metadata": {},
   "outputs": [
    {
     "data": {
      "text/plain": [
       "array([4, 2, 3, 4])"
      ]
     },
     "execution_count": 6,
     "metadata": {},
     "output_type": "execute_result"
    }
   ],
   "source": [
    "np.hstack((4,a))"
   ]
  },
  {
   "cell_type": "code",
   "execution_count": 7,
   "id": "b59e00dd-ac84-4c8d-9c74-1c9b3f0892de",
   "metadata": {},
   "outputs": [
    {
     "data": {
      "text/plain": [
       "[(15, 784), (10, 15)]"
      ]
     },
     "execution_count": 7,
     "metadata": {},
     "output_type": "execute_result"
    }
   ],
   "source": [
    "sizes = [784, 15, 10]\n",
    "W = [np.random.normal(loc=0.0, scale=0.01, size=(j, k)) for j, k in zip(sizes[1:], sizes[:-1])]\n",
    "[w.shape for w in W]"
   ]
  },
  {
   "cell_type": "code",
   "execution_count": 8,
   "id": "528f81af-1bbf-4b3e-9743-90c0223fb83a",
   "metadata": {},
   "outputs": [
    {
     "data": {
      "text/plain": [
       "array([6, 7, 8, 3, 8, 1, 9, 2, 1, 4, 4, 5, 4, 7, 8])"
      ]
     },
     "execution_count": 8,
     "metadata": {},
     "output_type": "execute_result"
    }
   ],
   "source": [
    "a = np.random.randint(10, size=(15,))\n",
    "a"
   ]
  },
  {
   "cell_type": "code",
   "execution_count": 9,
   "id": "9974112a-757d-43f9-b51b-78be18b707f7",
   "metadata": {},
   "outputs": [
    {
     "data": {
      "text/plain": [
       "2"
      ]
     },
     "execution_count": 9,
     "metadata": {},
     "output_type": "execute_result"
    }
   ],
   "source": [
    "i = np.random.randint(len(a))\n",
    "i"
   ]
  },
  {
   "cell_type": "code",
   "execution_count": 10,
   "id": "305fd542-fdc7-4c63-8c8f-cb05e8bf6429",
   "metadata": {},
   "outputs": [
    {
     "data": {
      "text/plain": [
       "8"
      ]
     },
     "execution_count": 10,
     "metadata": {},
     "output_type": "execute_result"
    }
   ],
   "source": [
    "y = a[i]\n",
    "y"
   ]
  },
  {
   "cell_type": "code",
   "execution_count": 23,
   "id": "a1f49df7-a942-4e8c-83c3-2b40f0719647",
   "metadata": {},
   "outputs": [
    {
     "data": {
      "text/plain": [
       "[3072, 15, 10]"
      ]
     },
     "execution_count": 23,
     "metadata": {},
     "output_type": "execute_result"
    }
   ],
   "source": [
    "input_dim = 3 * 32 * 32\n",
    "hidden_dims = [15, 10]\n",
    "layers = [input_dim] + hidden_dims\n",
    "layers"
   ]
  },
  {
   "cell_type": "code",
   "execution_count": 24,
   "id": "77dca59a-9384-4fad-a0cb-efc950b7a321",
   "metadata": {},
   "outputs": [],
   "source": [
    "num_layers = len(layers)"
   ]
  },
  {
   "cell_type": "code",
   "execution_count": null,
   "id": "04922b1c-111e-4176-be28-1f3c37c6d3b5",
   "metadata": {},
   "outputs": [],
   "source": [
    "params = {}\n",
    "dtype = np.float32\n",
    "seed = None\n",
    "rng = np.random.default_rng(seed)\n",
    "for i in range(1, num_layers):\n",
    "    self.params[f\"W{i}\"] = np.random.normal(loc=0.0, scale=weight_scale, \\\n",
    "        size=(self.layers[i-1], self.layers[i]))\n",
    "    self.params[f\"b{i}\"] = np.zeros(shape=(self.layers[i], 1))\n",
    "    self.params[f\"gamma{i}\"] = np.ones((self.layers[i], 1)) # for batch normalization\n",
    "    self.params[f\"beta{i}\"] = np.zeros((self.layers[i], 1)) # for batch normalization"
   ]
  },
  {
   "cell_type": "code",
   "execution_count": 15,
   "id": "e5f1e72f-359f-42f0-b102-a8d0cf8736a5",
   "metadata": {},
   "outputs": [],
   "source": [
    "mu, sigma = 0, 0.1 # mean and standard deviation\n",
    "s = np.random.default_rng().normal(mu, sigma, 1000).astype(np.int8)"
   ]
  },
  {
   "cell_type": "code",
   "execution_count": 16,
   "id": "4343ef08-4464-4db7-a86e-03ac2cea40c3",
   "metadata": {},
   "outputs": [
    {
     "data": {
      "text/plain": [
       "dtype('int8')"
      ]
     },
     "execution_count": 16,
     "metadata": {},
     "output_type": "execute_result"
    }
   ],
   "source": [
    "s.dtype"
   ]
  },
  {
   "cell_type": "code",
   "execution_count": 18,
   "id": "0eebfa22-2c6e-4b8e-8867-37d5b9dd4692",
   "metadata": {},
   "outputs": [
    {
     "data": {
      "text/plain": [
       "dtype('int8')"
      ]
     },
     "execution_count": 18,
     "metadata": {},
     "output_type": "execute_result"
    }
   ],
   "source": [
    "s = np.ones(shape=(32, 1), dtype=np.int8)\n",
    "s.dtype"
   ]
  },
  {
   "cell_type": "code",
   "execution_count": 25,
   "id": "bba3edf3-6428-4776-8681-19ff9edb2644",
   "metadata": {},
   "outputs": [
    {
     "name": "stdout",
     "output_type": "stream",
     "text": [
      "-1\n"
     ]
    }
   ],
   "source": [
    "for i in range(-1,0):\n",
    "    print(i)"
   ]
  },
  {
   "cell_type": "code",
   "execution_count": 26,
   "id": "6525c97e-5d7b-4470-b8c1-6ab861efdac1",
   "metadata": {},
   "outputs": [],
   "source": [
    "a = {}\n",
    "a[-1] = 2"
   ]
  },
  {
   "cell_type": "code",
   "execution_count": 27,
   "id": "57afb81b-91fc-4d0a-89f1-edd367e027b9",
   "metadata": {},
   "outputs": [
    {
     "data": {
      "text/plain": [
       "{-1: 2}"
      ]
     },
     "execution_count": 27,
     "metadata": {},
     "output_type": "execute_result"
    }
   ],
   "source": [
    "a"
   ]
  },
  {
   "cell_type": "code",
   "execution_count": 28,
   "id": "987e62b3-a3fe-4e29-b092-f5e7ce8b3089",
   "metadata": {},
   "outputs": [
    {
     "data": {
      "text/plain": [
       "2"
      ]
     },
     "execution_count": 28,
     "metadata": {},
     "output_type": "execute_result"
    }
   ],
   "source": [
    "a[-1]"
   ]
  },
  {
   "cell_type": "code",
   "execution_count": null,
   "id": "021640fd-c3e2-4491-aed2-53fcc9ba4799",
   "metadata": {},
   "outputs": [],
   "source": []
  }
 ],
 "metadata": {
  "kernelspec": {
   "display_name": "Python 3 (ipykernel)",
   "language": "python",
   "name": "python3"
  },
  "language_info": {
   "codemirror_mode": {
    "name": "ipython",
    "version": 3
   },
   "file_extension": ".py",
   "mimetype": "text/x-python",
   "name": "python",
   "nbconvert_exporter": "python",
   "pygments_lexer": "ipython3",
   "version": "3.9.9"
  }
 },
 "nbformat": 4,
 "nbformat_minor": 5
}
